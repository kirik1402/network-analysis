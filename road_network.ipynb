{
 "cells": [
  {
   "cell_type": "code",
   "execution_count": null,
   "id": "1291798e",
   "metadata": {},
   "outputs": [],
   "source": [
    "import networkx as nx\n",
    "\n",
    "G = nx.read_shp(r'c:/8th_semester/Karpach/Ex_02/Ruzaevka/Ruzaevka.shp')\n",
    "\n",
    "G.remove_edges_from(nx.selfloop_edges(G))\n",
    "\n",
    "core = nx.k_core(G, 2)\n",
    "\n",
    "nx.write_shp(core, r'c:/8th_semester/Karpach/Ex_02/Result/') #K-core"
   ]
  },
  {
   "cell_type": "code",
   "execution_count": null,
   "id": "21588259",
   "metadata": {},
   "outputs": [],
   "source": [
    "import networkx as nx\n",
    "\n",
    "F = nx.read_shp(r'c:/8th_semester/Karpach/Ex_02/Ruzaevka/Ruzaevka.shp')\n",
    "\n",
    "F = F.to_undirected()\n",
    "\n",
    "#M = F\n",
    "\n",
    "#F.remove_edges_from(nx.selfloop_edges(F))\n",
    "\n",
    "bridges = nx.bridges(F)\n",
    "\n",
    "#print(bridges)\n",
    "\n",
    "#N = nx.DiGraph()\n",
    "#N.add_edges_from(bridges)\n",
    "#print (N)\n",
    "\n",
    "#M.remove_edge(bridges)\n",
    "\n",
    "nx.write_shp(bridges, r'c:/8th_semester/Karpach/Ex_02/Bridges/') #Мосты"
   ]
  },
  {
   "cell_type": "code",
   "execution_count": null,
   "id": "f2138712",
   "metadata": {},
   "outputs": [],
   "source": [
    "import networkx as nx\n",
    "import math\n",
    "\n",
    "M = nx.read_shp(r'c:/8th_semester/Karpach/Ex_02/Ruzaevka/Ruzaevka.shp')\n",
    "\n",
    "nodes = M.nodes()\n",
    "\n",
    "listof = list(nodes)\n",
    "\n",
    "def f(x1,y1,x2,y2):\n",
    "    return math.sqrt((x2-x1)**2 + (y2-y1)**2)\n",
    "\n",
    "distan = []\n",
    "\n",
    "for i in range(len(listof)):\n",
    "    for j in range (i+1, len(listof)):\n",
    "        dist=f(listof[i][0], listof[i][1], listof[j][0], listof[j][1])\n",
    "        #key = [dist, listof[i][0], listof[i][1], listof[j][0], listof[j][1]]\n",
    "        distan.append(dist)\n",
    "        print (dist, listof[i][0], listof[i][1], listof[j][0], listof[j][1])\n",
    "print (max(distan))"
   ]
  },
  {
   "cell_type": "code",
   "execution_count": 12,
   "id": "ebab7d33",
   "metadata": {},
   "outputs": [
    {
     "name": "stderr",
     "output_type": "stream",
     "text": [
      "C:\\Users\\Khmelaw\\AppData\\Local\\Temp/ipykernel_9264/2202709654.py:21: DeprecationWarning: write_shp is deprecated and will be removed in 3.0.See https://networkx.org/documentation/latest/auto_examples/index.html#geospatial.\n",
      "  nx.write_shp(Y, r'c:/8th_semester/Karpach/Ex_02/Furthest_nodes/') #Наибольшее расстояние между точками\n"
     ]
    },
    {
     "ename": "KeyError",
     "evalue": "0",
     "output_type": "error",
     "traceback": [
      "\u001b[1;31m---------------------------------------------------------------------------\u001b[0m",
      "\u001b[1;31mKeyError\u001b[0m                                  Traceback (most recent call last)",
      "\u001b[1;32m~\\AppData\\Local\\Temp/ipykernel_9264/2202709654.py\u001b[0m in \u001b[0;36m<module>\u001b[1;34m\u001b[0m\n\u001b[0;32m     19\u001b[0m \u001b[0mY\u001b[0m\u001b[1;33m.\u001b[0m\u001b[0madd_edge\u001b[0m\u001b[1;33m(\u001b[0m\u001b[1;36m1\u001b[0m\u001b[1;33m,\u001b[0m\u001b[1;36m2\u001b[0m\u001b[1;33m)\u001b[0m\u001b[1;33m\u001b[0m\u001b[1;33m\u001b[0m\u001b[0m\n\u001b[0;32m     20\u001b[0m \u001b[1;33m\u001b[0m\u001b[0m\n\u001b[1;32m---> 21\u001b[1;33m \u001b[0mnx\u001b[0m\u001b[1;33m.\u001b[0m\u001b[0mwrite_shp\u001b[0m\u001b[1;33m(\u001b[0m\u001b[0mY\u001b[0m\u001b[1;33m,\u001b[0m \u001b[1;34mr'c:/8th_semester/Karpach/Ex_02/Furthest_nodes/'\u001b[0m\u001b[1;33m)\u001b[0m \u001b[1;31m#Наибольшее расстояние между точками\u001b[0m\u001b[1;33m\u001b[0m\u001b[1;33m\u001b[0m\u001b[0m\n\u001b[0m",
      "\u001b[1;32mC:\\ProgramData\\Anaconda3\\envs\\khmelas_note\\lib\\site-packages\\networkx\\readwrite\\nx_shp.py\u001b[0m in \u001b[0;36mwrite_shp\u001b[1;34m(G, outdir)\u001b[0m\n\u001b[0;32m    315\u001b[0m     \u001b[1;32mfor\u001b[0m \u001b[0mn\u001b[0m \u001b[1;32min\u001b[0m \u001b[0mG\u001b[0m\u001b[1;33m:\u001b[0m\u001b[1;33m\u001b[0m\u001b[1;33m\u001b[0m\u001b[0m\n\u001b[0;32m    316\u001b[0m         \u001b[0mdata\u001b[0m \u001b[1;33m=\u001b[0m \u001b[0mG\u001b[0m\u001b[1;33m.\u001b[0m\u001b[0mnodes\u001b[0m\u001b[1;33m[\u001b[0m\u001b[0mn\u001b[0m\u001b[1;33m]\u001b[0m\u001b[1;33m\u001b[0m\u001b[1;33m\u001b[0m\u001b[0m\n\u001b[1;32m--> 317\u001b[1;33m         \u001b[0mg\u001b[0m \u001b[1;33m=\u001b[0m \u001b[0mnetgeometry\u001b[0m\u001b[1;33m(\u001b[0m\u001b[0mn\u001b[0m\u001b[1;33m,\u001b[0m \u001b[0mdata\u001b[0m\u001b[1;33m)\u001b[0m\u001b[1;33m\u001b[0m\u001b[1;33m\u001b[0m\u001b[0m\n\u001b[0m\u001b[0;32m    318\u001b[0m         \u001b[0mattributes\u001b[0m\u001b[1;33m,\u001b[0m \u001b[0mnodes\u001b[0m \u001b[1;33m=\u001b[0m \u001b[0mcreate_attributes\u001b[0m\u001b[1;33m(\u001b[0m\u001b[0mdata\u001b[0m\u001b[1;33m,\u001b[0m \u001b[0mnode_fields\u001b[0m\u001b[1;33m,\u001b[0m \u001b[0mnodes\u001b[0m\u001b[1;33m)\u001b[0m\u001b[1;33m\u001b[0m\u001b[1;33m\u001b[0m\u001b[0m\n\u001b[0;32m    319\u001b[0m         \u001b[0mcreate_feature\u001b[0m\u001b[1;33m(\u001b[0m\u001b[0mg\u001b[0m\u001b[1;33m,\u001b[0m \u001b[0mnodes\u001b[0m\u001b[1;33m,\u001b[0m \u001b[0mattributes\u001b[0m\u001b[1;33m)\u001b[0m\u001b[1;33m\u001b[0m\u001b[1;33m\u001b[0m\u001b[0m\n",
      "\u001b[1;32mC:\\ProgramData\\Anaconda3\\envs\\khmelas_note\\lib\\site-packages\\networkx\\readwrite\\nx_shp.py\u001b[0m in \u001b[0;36mnetgeometry\u001b[1;34m(key, data)\u001b[0m\n\u001b[0;32m    240\u001b[0m         \u001b[1;32melif\u001b[0m \u001b[1;34m\"Wkt\"\u001b[0m \u001b[1;32min\u001b[0m \u001b[0mdata\u001b[0m\u001b[1;33m:\u001b[0m\u001b[1;33m\u001b[0m\u001b[1;33m\u001b[0m\u001b[0m\n\u001b[0;32m    241\u001b[0m             \u001b[0mgeom\u001b[0m \u001b[1;33m=\u001b[0m \u001b[0mogr\u001b[0m\u001b[1;33m.\u001b[0m\u001b[0mCreateGeometryFromWkt\u001b[0m\u001b[1;33m(\u001b[0m\u001b[0mdata\u001b[0m\u001b[1;33m[\u001b[0m\u001b[1;34m\"Wkt\"\u001b[0m\u001b[1;33m]\u001b[0m\u001b[1;33m)\u001b[0m\u001b[1;33m\u001b[0m\u001b[1;33m\u001b[0m\u001b[0m\n\u001b[1;32m--> 242\u001b[1;33m         \u001b[1;32melif\u001b[0m \u001b[0mtype\u001b[0m\u001b[1;33m(\u001b[0m\u001b[0mkey\u001b[0m\u001b[1;33m[\u001b[0m\u001b[1;36m0\u001b[0m\u001b[1;33m]\u001b[0m\u001b[1;33m)\u001b[0m\u001b[1;33m.\u001b[0m\u001b[0m__name__\u001b[0m \u001b[1;33m==\u001b[0m \u001b[1;34m\"tuple\"\u001b[0m\u001b[1;33m:\u001b[0m  \u001b[1;31m# edge keys are packed tuples\u001b[0m\u001b[1;33m\u001b[0m\u001b[1;33m\u001b[0m\u001b[0m\n\u001b[0m\u001b[0;32m    243\u001b[0m             \u001b[0mgeom\u001b[0m \u001b[1;33m=\u001b[0m \u001b[0mogr\u001b[0m\u001b[1;33m.\u001b[0m\u001b[0mGeometry\u001b[0m\u001b[1;33m(\u001b[0m\u001b[0mogr\u001b[0m\u001b[1;33m.\u001b[0m\u001b[0mwkbLineString\u001b[0m\u001b[1;33m)\u001b[0m\u001b[1;33m\u001b[0m\u001b[1;33m\u001b[0m\u001b[0m\n\u001b[0;32m    244\u001b[0m             \u001b[0m_from\u001b[0m\u001b[1;33m,\u001b[0m \u001b[0m_to\u001b[0m \u001b[1;33m=\u001b[0m \u001b[0mkey\u001b[0m\u001b[1;33m[\u001b[0m\u001b[1;36m0\u001b[0m\u001b[1;33m]\u001b[0m\u001b[1;33m,\u001b[0m \u001b[0mkey\u001b[0m\u001b[1;33m[\u001b[0m\u001b[1;36m1\u001b[0m\u001b[1;33m]\u001b[0m\u001b[1;33m\u001b[0m\u001b[1;33m\u001b[0m\u001b[0m\n",
      "\u001b[1;32mC:\\ProgramData\\Anaconda3\\envs\\khmelas_note\\lib\\site-packages\\networkx\\classes\\graph.py\u001b[0m in \u001b[0;36m__getitem__\u001b[1;34m(self, n)\u001b[0m\n\u001b[0;32m    474\u001b[0m         \u001b[0mAtlasView\u001b[0m\u001b[1;33m(\u001b[0m\u001b[1;33m{\u001b[0m\u001b[1;36m1\u001b[0m\u001b[1;33m:\u001b[0m \u001b[1;33m{\u001b[0m\u001b[1;33m}\u001b[0m\u001b[1;33m}\u001b[0m\u001b[1;33m)\u001b[0m\u001b[1;33m\u001b[0m\u001b[1;33m\u001b[0m\u001b[0m\n\u001b[0;32m    475\u001b[0m         \"\"\"\n\u001b[1;32m--> 476\u001b[1;33m         \u001b[1;32mreturn\u001b[0m \u001b[0mself\u001b[0m\u001b[1;33m.\u001b[0m\u001b[0madj\u001b[0m\u001b[1;33m[\u001b[0m\u001b[0mn\u001b[0m\u001b[1;33m]\u001b[0m\u001b[1;33m\u001b[0m\u001b[1;33m\u001b[0m\u001b[0m\n\u001b[0m\u001b[0;32m    477\u001b[0m \u001b[1;33m\u001b[0m\u001b[0m\n\u001b[0;32m    478\u001b[0m     \u001b[1;32mdef\u001b[0m \u001b[0madd_node\u001b[0m\u001b[1;33m(\u001b[0m\u001b[0mself\u001b[0m\u001b[1;33m,\u001b[0m \u001b[0mnode_for_adding\u001b[0m\u001b[1;33m,\u001b[0m \u001b[1;33m**\u001b[0m\u001b[0mattr\u001b[0m\u001b[1;33m)\u001b[0m\u001b[1;33m:\u001b[0m\u001b[1;33m\u001b[0m\u001b[1;33m\u001b[0m\u001b[0m\n",
      "\u001b[1;32mC:\\ProgramData\\Anaconda3\\envs\\khmelas_note\\lib\\site-packages\\networkx\\classes\\coreviews.py\u001b[0m in \u001b[0;36m__getitem__\u001b[1;34m(self, name)\u001b[0m\n\u001b[0;32m     80\u001b[0m \u001b[1;33m\u001b[0m\u001b[0m\n\u001b[0;32m     81\u001b[0m     \u001b[1;32mdef\u001b[0m \u001b[0m__getitem__\u001b[0m\u001b[1;33m(\u001b[0m\u001b[0mself\u001b[0m\u001b[1;33m,\u001b[0m \u001b[0mname\u001b[0m\u001b[1;33m)\u001b[0m\u001b[1;33m:\u001b[0m\u001b[1;33m\u001b[0m\u001b[1;33m\u001b[0m\u001b[0m\n\u001b[1;32m---> 82\u001b[1;33m         \u001b[1;32mreturn\u001b[0m \u001b[0mAtlasView\u001b[0m\u001b[1;33m(\u001b[0m\u001b[0mself\u001b[0m\u001b[1;33m.\u001b[0m\u001b[0m_atlas\u001b[0m\u001b[1;33m[\u001b[0m\u001b[0mname\u001b[0m\u001b[1;33m]\u001b[0m\u001b[1;33m)\u001b[0m\u001b[1;33m\u001b[0m\u001b[1;33m\u001b[0m\u001b[0m\n\u001b[0m\u001b[0;32m     83\u001b[0m \u001b[1;33m\u001b[0m\u001b[0m\n\u001b[0;32m     84\u001b[0m     \u001b[1;32mdef\u001b[0m \u001b[0mcopy\u001b[0m\u001b[1;33m(\u001b[0m\u001b[0mself\u001b[0m\u001b[1;33m)\u001b[0m\u001b[1;33m:\u001b[0m\u001b[1;33m\u001b[0m\u001b[1;33m\u001b[0m\u001b[0m\n",
      "\u001b[1;31mKeyError\u001b[0m: 0"
     ]
    }
   ],
   "source": [
    "#def f(x1,y1,x2,y2):\n",
    "#    return math.sqrt((x2-x1)**2 + (y2-y1)**2)\n",
    "\n",
    "#distan = []\n",
    "\n",
    "#for i in range(nodes):\n",
    "#    for j in range (I+1, nodes):\n",
    "#        dist=f(nodes[i][0], nodes[i][1], nodes[j][0], nodes[j][1])\n",
    "#        distan.append(dist)\n",
    "        \n",
    "#maxdist 12566.091408804761 точки 502922.8367946539 5987398.030784925 492195.0867726905 5993941.885364659\n",
    "\n",
    "Y = nx.DiGraph()\n",
    "K3 = nx.Graph([(502922.8367946539, 5987398.030784925)])\n",
    "K5 = nx.Graph([(492195.0867726905, 5993941.885364659)])\n",
    "Y.add_node(K3)\n",
    "Y.add_node(K5)\n",
    "\n",
    "Y.add_edge(1,2)\n",
    "\n",
    "nx.write_shp(Y, r'c:/8th_semester/Karpach/Ex_02/Furthest_nodes/') #Наибольшее расстояние между точками"
   ]
  },
  {
   "cell_type": "code",
   "execution_count": null,
   "id": "5d40630d",
   "metadata": {},
   "outputs": [],
   "source": [
    "import networkx as nx\n",
    "import math\n",
    "\n",
    "W = nx.read_shp(r'c:/8th_semester/Karpach/Ex_02/Ruzaevka/Ruzaevka.shp')\n",
    "K = W.to_undirected()\n",
    "J = nx.minimum_spanning_tree(K)\n",
    "\n",
    "nx.write_shp(J, r'c:/8th_semester/Karpach/Ex_02/tree/') #Остовное дерево"
   ]
  },
  {
   "cell_type": "code",
   "execution_count": null,
   "id": "4e8d6d8e",
   "metadata": {},
   "outputs": [],
   "source": [
    "import networkx as nx\n",
    "import math\n",
    "\n",
    "#print (len(nx.cycle_basis(K))) #405\n",
    "B = nx.simple_cycles(K)\n",
    "print(B)"
   ]
  },
  {
   "cell_type": "code",
   "execution_count": 11,
   "id": "5cba619c",
   "metadata": {},
   "outputs": [
    {
     "name": "stderr",
     "output_type": "stream",
     "text": [
      "C:\\Users\\Khmelaw\\AppData\\Local\\Temp/ipykernel_9264/2609305575.py:3: DeprecationWarning: read_shp is deprecated and will be removed in 3.0.See https://networkx.org/documentation/latest/auto_examples/index.html#geospatial.\n",
      "  Q = nx.read_shp(r'c:/8th_semester/Karpach/Ex_02/Ruzaevka/Ruzaevka.shp')\n"
     ]
    },
    {
     "name": "stdout",
     "output_type": "stream",
     "text": [
      "272\n",
      "1360\n",
      "1\n"
     ]
    }
   ],
   "source": [
    "import networkx as nx\n",
    "\n",
    "Q = nx.read_shp(r'c:/8th_semester/Karpach/Ex_02/Ruzaevka/Ruzaevka.shp')\n",
    "\n",
    "nodes = Q.nodes()\n",
    "U = Q.to_undirected()\n",
    "x = list(nodes)\n",
    "\n",
    "print(x.index((502922.8367946539, 5987398.030784925)))\n",
    "print(x.index((492195.0867726905, 5993941.885364659)))\n",
    "\n",
    "#P = nx.node_connectivity(U, 272, 1360)\n",
    "P = nx.node_connectivity(U, (502922.8367946539, 5987398.030784925), (492195.0867726905, 5993941.885364659))\n",
    "print(P)"
   ]
  },
  {
   "cell_type": "code",
   "execution_count": 2,
   "id": "00a9ce4c",
   "metadata": {},
   "outputs": [
    {
     "name": "stderr",
     "output_type": "stream",
     "text": [
      "C:\\Users\\Khmelaw\\AppData\\Local\\Temp/ipykernel_12996/1026095555.py:3: DeprecationWarning: read_shp is deprecated and will be removed in 3.0.See https://networkx.org/documentation/latest/auto_examples/index.html#geospatial.\n",
      "  R = nx.read_shp(r'c:/8th_semester/Karpach/Ex_02/Ruzaevka/Ruzaevka.shp')\n"
     ]
    },
    {
     "name": "stdout",
     "output_type": "stream",
     "text": [
      "3\n"
     ]
    }
   ],
   "source": [
    "import networkx as nx\n",
    "\n",
    "R = nx.read_shp(r'c:/8th_semester/Karpach/Ex_02/Ruzaevka/Ruzaevka.shp')\n",
    "Y = R.to_undirected()\n",
    "\n",
    "\n",
    "print (nx.number_connected_components(Y))"
   ]
  },
  {
   "cell_type": "code",
   "execution_count": null,
   "id": "dd9795e6",
   "metadata": {},
   "outputs": [],
   "source": []
  }
 ],
 "metadata": {
  "kernelspec": {
   "display_name": "khmelas_note",
   "language": "python",
   "name": "khmelas_note"
  },
  "language_info": {
   "codemirror_mode": {
    "name": "ipython",
    "version": 3
   },
   "file_extension": ".py",
   "mimetype": "text/x-python",
   "name": "python",
   "nbconvert_exporter": "python",
   "pygments_lexer": "ipython3",
   "version": "3.8.11"
  }
 },
 "nbformat": 4,
 "nbformat_minor": 5
}
